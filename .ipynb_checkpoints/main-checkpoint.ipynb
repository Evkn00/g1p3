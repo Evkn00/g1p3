{
 "cells": [
  {
   "cell_type": "code",
   "execution_count": 1,
   "metadata": {},
   "outputs": [
    {
     "name": "stdout",
     "output_type": "stream",
     "text": [
      "Intel MKL WARNING: Support of Intel(R) Streaming SIMD Extensions 4.2 (Intel(R) SSE4.2) enabled only processors has been deprecated. Intel oneAPI Math Kernel Library 2025.0 will require Intel(R) Advanced Vector Extensions (Intel(R) AVX) instructions.\n",
      "Intel MKL WARNING: Support of Intel(R) Streaming SIMD Extensions 4.2 (Intel(R) SSE4.2) enabled only processors has been deprecated. Intel oneAPI Math Kernel Library 2025.0 will require Intel(R) Advanced Vector Extensions (Intel(R) AVX) instructions.\n"
     ]
    }
   ],
   "source": [
    "# Import dependencies\n",
    "import pymongo\n",
    "from pprint import pprint\n",
    "import pandas as pd\n",
    "import json"
   ]
  },
  {
   "cell_type": "code",
   "execution_count": 2,
   "metadata": {},
   "outputs": [
    {
     "ename": "NameError",
     "evalue": "name 'MongoClient' is not defined",
     "output_type": "error",
     "traceback": [
      "\u001b[0;31m---------------------------------------------------------------------------\u001b[0m",
      "\u001b[0;31mNameError\u001b[0m                                 Traceback (most recent call last)",
      "Cell \u001b[0;32mIn[2], line 2\u001b[0m\n\u001b[1;32m      1\u001b[0m \u001b[38;5;66;03m# Create an instance of MongoClient\u001b[39;00m\n\u001b[0;32m----> 2\u001b[0m mongo \u001b[38;5;241m=\u001b[39m \u001b[43mMongoClient\u001b[49m(port\u001b[38;5;241m=\u001b[39m\u001b[38;5;241m27017\u001b[39m)\n\u001b[1;32m      3\u001b[0m \u001b[38;5;66;03m# assign the uk_food database to a variable name\u001b[39;00m\n\u001b[1;32m      4\u001b[0m db \u001b[38;5;241m=\u001b[39m mongo[\u001b[38;5;124m'\u001b[39m\u001b[38;5;124mProject3\u001b[39m\u001b[38;5;124m'\u001b[39m]\n",
      "\u001b[0;31mNameError\u001b[0m: name 'MongoClient' is not defined"
     ]
    }
   ],
   "source": [
    "# Create an instance of MongoClient\n",
    "mongo = MongoClient(port=27017)\n",
    "# assign the uk_food database to a variable name\n",
    "db = mongo['Project3']\n",
    "# assign the collection to a variable\n",
    "collection = db[\"ship_wreck_data\"]\n",
    "\n"
   ]
  },
  {
   "cell_type": "code",
   "execution_count": null,
   "metadata": {},
   "outputs": [],
   "source": [
    "#Setup DB\n",
    "client = pymongo.MongoClient(\"mongodb://localhost:27017/\")\n",
    "db = client[\"Project3\"]\n",
    "collection = db[\"ship_wreck_data\"]\n"
   ]
  },
  {
   "cell_type": "code",
   "execution_count": null,
   "metadata": {},
   "outputs": [],
   "source": [
    "#Load data into db\n",
    "with open(\"data\\TOPO_Shipwrecks_GDA2020.geojson\") as file:\n",
    "    data = json.load(file)\n",
    "    collection.insert_many(data[\"features\"])\n",
    "\n",
    "client.close()\n",
    "\n",
    "# review a document in the establishments collection\n",
    "pprint(collection.find_one())"
   ]
  },
  {
   "cell_type": "code",
   "execution_count": null,
   "metadata": {},
   "outputs": [],
   "source": [
    "# Update the Country with no meaningful description with Unknown\n",
    "filter = {\"properties.COUNTRY\": \" \"}\n",
    "newvalues = {\"$set\": {\"properties.COUNTRY\":\"Unknown\"}}\n",
    "collection.update_many(filter,newvalues)"
   ]
  },
  {
   "cell_type": "code",
   "execution_count": null,
   "metadata": {},
   "outputs": [],
   "source": [
    "# Update the Hull Description with no meaningful description with Unknown\n",
    "filter = {\"properties.HULLDESC\": \" \"}\n",
    "newvalues = {\"$set\": {\"properties.HULLDESC\":\"Unknown\"}}\n",
    "collection.update_many(filter,newvalues)"
   ]
  },
  {
   "cell_type": "code",
   "execution_count": null,
   "metadata": {},
   "outputs": [],
   "source": [
    "# Update the ships with no meaningful description with Ship\n",
    "filter = {\n",
    "    \"$or\": [\n",
    "        {\"properties.RIGDESC\": \"None\"},\n",
    "        {\"properties.RIGDESC\": \"Unknown\"},\n",
    "        {\"properties.RIGDESC\": \" \"}\n",
    "    ]\n",
    "}\n",
    "newvalues = {\"$set\": {\"properties.RIGDESC\":\"Ship\"}}\n",
    "collection.update_many(filter,newvalues)"
   ]
  },
  {
   "cell_type": "code",
   "execution_count": null,
   "metadata": {},
   "outputs": [],
   "source": [
    "# Update the ships with no meaningful description with Ship\n",
    "filter = {\"properties.LOSSDATE\":\" \"}\n",
    "newvalues = {\"$set\": {\"properties.LOSSDATE\":\"0000\"}}\n",
    "collection.update_many(filter,newvalues)"
   ]
  },
  {
   "cell_type": "code",
   "execution_count": null,
   "metadata": {},
   "outputs": [],
   "source": [
    "# Retrieve all documents in the collection\n",
    "documents = collection.find()\n",
    "\n",
    "# Update the LOSSDATE field in each document\n",
    "for document in documents:\n",
    "    lossdate = document[\"properties\"][\"LOSSDATE\"]\n",
    "    if lossdate:\n",
    "        document[\"properties\"][\"LOSSDATE\"] = lossdate[-4:]\n",
    "        collection.replace_one({\"_id\": document[\"_id\"]}, document)"
   ]
  },
  {
   "cell_type": "code",
   "execution_count": null,
   "metadata": {},
   "outputs": [],
   "source": [
    "# Update the ships with no meaningful description with Ship\n",
    "filter = {\"properties.BUILDDATE\":\" \"}\n",
    "newvalues = {\"$set\": {\"properties.BUILDDATE\":\"0000\"}}\n",
    "collection.update_many(filter,newvalues) \n"
   ]
  },
  {
   "cell_type": "code",
   "execution_count": null,
   "metadata": {},
   "outputs": [],
   "source": [
    "# Retrieve all documents in the collection\n",
    "documents = collection.find()\n",
    "\n",
    "# Update the BUILDDATE field in each document\n",
    "for document in documents:\n",
    "    builddate = document[\"properties\"][\"BUILDDATE\"]\n",
    "    if builddate:\n",
    "        document[\"properties\"][\"BUILDDATE\"] = builddate[-4:]\n",
    "        collection.replace_one({\"_id\": document[\"_id\"]}, document)"
   ]
  },
  {
   "cell_type": "code",
   "execution_count": null,
   "metadata": {},
   "outputs": [],
   "source": [
    "# Change the data type from String to Decimal for BUILDDATE and LOSSDATE\n",
    "collection.update_many({},[{'$set':{'properties.BUILDDATE': {'$toDouble': '$properties.BUILDDATE'},'properties.LOSSDATE' : {'$toDouble': '$properties.LOSSDATE'}}}])"
   ]
  }
 ],
 "metadata": {
  "kernelspec": {
   "display_name": "Python 3 (ipykernel)",
   "language": "python",
   "name": "python3"
  },
  "language_info": {
   "codemirror_mode": {
    "name": "ipython",
    "version": 3
   },
   "file_extension": ".py",
   "mimetype": "text/x-python",
   "name": "python",
   "nbconvert_exporter": "python",
   "pygments_lexer": "ipython3",
   "version": "3.10.11"
  }
 },
 "nbformat": 4,
 "nbformat_minor": 2
}
