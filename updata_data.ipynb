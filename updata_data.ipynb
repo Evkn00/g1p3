{
 "cells": [
  {
   "cell_type": "code",
   "execution_count": 196,
   "metadata": {},
   "outputs": [],
   "source": [
    "# Import dependencies\n",
    "from pymongo import MongoClient\n",
    "from pprint import pprint\n",
    "import pandas as pd"
   ]
  },
  {
   "cell_type": "code",
   "execution_count": 197,
   "metadata": {},
   "outputs": [
    {
     "name": "stdout",
     "output_type": "stream",
     "text": [
      "{'_id': ObjectId('64bc898b7ffa3f832cb6b1a4'),\n",
      " 'geometry': {'coordinates': [139.20135500100002, -36.08200799999997],\n",
      "              'type': 'Point'},\n",
      " 'id': 0,\n",
      " 'properties': {'BUILDDATE': '1838',\n",
      "                'COUNTRY': 'Australia',\n",
      "                'FID': 0,\n",
      "                'HULLDESC': 'Wood',\n",
      "                'ISFOUND': 'N',\n",
      "                'ISINSPECTE': 'N',\n",
      "                'ISPROTECTE': 'Y',\n",
      "                'JURISDICTI': 'Federal',\n",
      "                'LATITUDE': -36.082008,\n",
      "                'LENGTH': 12.2,\n",
      "                'LONGITUDE': 139.201355,\n",
      "                'LOSSCAUSE': 'Driven ashore by SW gales.',\n",
      "                'LOSSDATE': '21/06/1838',\n",
      "                'LOSSLOCATI': 'Near Cape Bernouilli, 30 miles east of '\n",
      "                              'Encounter Bay, south of Victor Harbor, South '\n",
      "                              'Australia.',\n",
      "                'PORTBUILT': 'Battery Point, Hobart',\n",
      "                'PUBLIC_ACC': 'General Access',\n",
      "                'REGION': 'South East',\n",
      "                'RIGDESC': 'Schooner',\n",
      "                'SHIPTYPEDE': ' ',\n",
      "                'TONNAGEA': 23,\n",
      "                'TONNAGEADE': 'Old Measurement',\n",
      "                'WRECKNAME': 'Fanny',\n",
      "                'WRECKNR': 12},\n",
      " 'type': 'Feature'}\n"
     ]
    }
   ],
   "source": [
    "# Create an instance of MongoClient\n",
    "mongo = MongoClient(port=27017)\n",
    "# assign the uk_food database to a variable name\n",
    "db = mongo['Project3']\n",
    "# assign the collection to a variable\n",
    "collection = db[\"ship_wreck_data\"]\n",
    "\n",
    "# review a document in the establishments collection\n",
    "pprint(collection.find_one())"
   ]
  },
  {
   "cell_type": "code",
   "execution_count": 198,
   "metadata": {},
   "outputs": [
    {
     "data": {
      "text/plain": [
       "<pymongo.results.UpdateResult at 0x24cb667ad40>"
      ]
     },
     "execution_count": 198,
     "metadata": {},
     "output_type": "execute_result"
    }
   ],
   "source": [
    "# Update the ships with no meaningful description with Ship\n",
    "filter = {\n",
    "    \"$or\": [\n",
    "        {\"properties.RIGDESC\": \"None\"},\n",
    "        {\"properties.RIGDESC\": \"Unknown\"},\n",
    "        {\"properties.RIGDESC\": \" \"}\n",
    "    ]\n",
    "}\n",
    "newvalues = {\"$set\": {\"properties.RIGDESC\":\"Ship\"}}\n",
    "collection.update_many(filter,newvalues)"
   ]
  },
  {
   "cell_type": "code",
   "execution_count": 199,
   "metadata": {},
   "outputs": [
    {
     "data": {
      "text/plain": [
       "<pymongo.results.UpdateResult at 0x24cb663bb00>"
      ]
     },
     "execution_count": 199,
     "metadata": {},
     "output_type": "execute_result"
    }
   ],
   "source": [
    "# Update the ships with no meaningful description with Ship\n",
    "filter = {\"properties.LOSSDATE\":\" \"}\n",
    "newvalues = {\"$set\": {\"properties.LOSSDATE\":\"0000\"}}\n",
    "collection.update_many(filter,newvalues)"
   ]
  },
  {
   "cell_type": "code",
   "execution_count": 200,
   "metadata": {},
   "outputs": [],
   "source": [
    "# Retrieve all documents in the collection\n",
    "documents = collection.find()\n",
    "\n",
    "# Update the LOSSDATE field in each document\n",
    "for document in documents:\n",
    "    lossdate = document[\"properties\"][\"LOSSDATE\"]\n",
    "    if lossdate:\n",
    "        document[\"properties\"][\"LOSSDATE\"] = lossdate[-4:]\n",
    "        collection.replace_one({\"_id\": document[\"_id\"]}, document)"
   ]
  },
  {
   "cell_type": "code",
   "execution_count": 201,
   "metadata": {},
   "outputs": [
    {
     "data": {
      "text/plain": [
       "<pymongo.results.UpdateResult at 0x24cb5b53400>"
      ]
     },
     "execution_count": 201,
     "metadata": {},
     "output_type": "execute_result"
    }
   ],
   "source": [
    "# Update the ships with no meaningful description with Ship\n",
    "filter = {\"properties.BUILDDATE\":\" \"}\n",
    "newvalues = {\"$set\": {\"properties.BUILDDATE\":\"0000\"}}\n",
    "collection.update_many(filter,newvalues) \n"
   ]
  },
  {
   "cell_type": "code",
   "execution_count": 202,
   "metadata": {},
   "outputs": [],
   "source": [
    "# Retrieve all documents in the collection\n",
    "documents = collection.find()\n",
    "\n",
    "# Update the BUILDDATE field in each document\n",
    "for document in documents:\n",
    "    builddate = document[\"properties\"][\"BUILDDATE\"]\n",
    "    if builddate:\n",
    "        document[\"properties\"][\"BUILDDATE\"] = builddate[-4:]\n",
    "        collection.replace_one({\"_id\": document[\"_id\"]}, document)"
   ]
  },
  {
   "cell_type": "code",
   "execution_count": 203,
   "metadata": {},
   "outputs": [
    {
     "data": {
      "text/plain": [
       "<pymongo.results.UpdateResult at 0x24cb5c21f80>"
      ]
     },
     "execution_count": 203,
     "metadata": {},
     "output_type": "execute_result"
    }
   ],
   "source": [
    "# Change the data type from String to Decimal for BUILDDATE and LOSSDATE\n",
    "collection.update_many({},[{'$set':{'properties.BUILDDATE': {'$toDouble': '$properties.BUILDDATE'},'properties.LOSSDATE' : {'$toDouble': '$properties.LOSSDATE'}}}])"
   ]
  }
 ],
 "metadata": {
  "language_info": {
   "name": "python"
  },
  "orig_nbformat": 4
 },
 "nbformat": 4,
 "nbformat_minor": 2
}
